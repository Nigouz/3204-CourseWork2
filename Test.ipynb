{
 "cells": [
  {
   "cell_type": "markdown",
   "metadata": {
    "colab_type": "text",
    "id": "view-in-github"
   },
   "source": [
    "<a href=\"https://colab.research.google.com/github/Nigouz/3204-CourseWork2/blob/main/Test.ipynb\" target=\"_parent\"><img src=\"https://colab.research.google.com/assets/colab-badge.svg\" alt=\"Open In Colab\"/></a>"
   ]
  },
  {
   "cell_type": "code",
   "execution_count": 1,
   "metadata": {
    "id": "KZhD1QKdgcK9"
   },
   "outputs": [
    {
     "name": "stdout",
     "output_type": "stream",
     "text": [
      "WARNING:tensorflow:From C:\\Users\\kahow\\anaconda3\\lib\\site-packages\\tensorflow\\python\\compat\\v2_compat.py:107: disable_resource_variables (from tensorflow.python.ops.variable_scope) is deprecated and will be removed in a future version.\n",
      "Instructions for updating:\n",
      "non-resource variables are not supported in the long term\n"
     ]
    }
   ],
   "source": [
    "import numpy as np\n",
    "import matplotlib.pyplot as plt\n",
    "import pandas as pd\n",
    "import pickle\n",
    "import os\n",
    "import re\n",
    "from sklearn import preprocessing\n",
    "import tensorflow as tf\n",
    "import tensorflow.compat.v1 as tf\n",
    "tf.disable_v2_behavior()\n"
   ]
  },
  {
   "cell_type": "code",
   "execution_count": 2,
   "metadata": {
    "id": "VY4YBaFhgmtT"
   },
   "outputs": [],
   "source": [
    "# from google.colab import drive\n",
    "# drive.mount('/content/drive')"
   ]
  },
  {
   "cell_type": "code",
   "execution_count": 3,
   "metadata": {
    "colab": {
     "base_uri": "https://localhost:8080/"
    },
    "id": "cu1B4nd9gmq8",
    "outputId": "7af96a2b-7e2e-4ffc-9ebf-0d0053feb443"
   },
   "outputs": [
    {
     "name": "stdout",
     "output_type": "stream",
     "text": [
      "[*] Shape of dataset: (98274, 15)\n",
      "         @timestamp         src_ip src_port           dst_ip      dst_port  \\\n",
      "80032  1.666692e+09              0        0                0             0   \n",
      "33103  1.666692e+09    10.32.4.176    41708    10.132.100.53           445   \n",
      "1652   1.666696e+09   192.168.10.2     9200            47634  192.168.10.3   \n",
      "35886  1.666542e+09  192.168.106.1    61381  192.168.106.130            53   \n",
      "39069  1.666692e+09    10.32.4.176    37998    10.132.100.52         17988   \n",
      "\n",
      "                                                Protocol http_request_method  \\\n",
      "80032                                                  0                   0   \n",
      "33103                                                TCP                   0   \n",
      "1652                                             TCP/UDP                   0   \n",
      "35886  2022-10-24 00:21:02 ALLOW UDP 192.168.106.1 19...                 UDP   \n",
      "39069                                                TCP                   0   \n",
      "\n",
      "      http_request_referrer http_response_code url_path user_agent_original  \\\n",
      "80032                     0                  0        0                   0   \n",
      "33103                     0                  0        0                   0   \n",
      "1652                      0                  0        0                   0   \n",
      "35886                     0                  0        0                   0   \n",
      "39069                     0                  0        0                   0   \n",
      "\n",
      "      sql_method sql_query   category  \n",
      "80032          0         0  port_scan  \n",
      "33103          0         0  port_scan  \n",
      "1652           0         0  nmap_scan  \n",
      "35886          0         0  port_scan  \n",
      "39069          0         0  port_scan  \n",
      "\n",
      "\n"
     ]
    }
   ],
   "source": [
    "%matplotlib inline\n",
    "plt.style.use('ggplot')\n",
    "full_df = pd.read_csv(r\"shuffled-noIPV6.csv\")\n",
    "# full_df = pd.read_csv(r\"fortf.csv\")\n",
    "\n",
    "print(f\"[*] Shape of dataset: {full_df.shape}\")\n",
    "from sklearn.utils import shuffle\n",
    "full_df.drop(full_df.columns[0], axis=1, inplace=True)\n",
    "full_df = shuffle(full_df)\n",
    "\n",
    "print(full_df.tail())\n",
    "print(\"\\n\")"
   ]
  },
  {
   "cell_type": "code",
   "execution_count": 4,
   "metadata": {
    "colab": {
     "base_uri": "https://localhost:8080/",
     "height": 17
    },
    "id": "IOgcXWdIzNSq",
    "outputId": "a55291c8-853d-4afb-aa40-3b8eb45a7228"
   },
   "outputs": [],
   "source": [
    "full_df[\"src_port\"]=  full_df[\"src_port\"].replace(regex=\",\", value= \"\")\n",
    "full_df[\"src_port\"]=  full_df[\"src_port\"].replace(regex=\",\", value= \"\")\n",
    "full_df[\"dst_port\"]=  full_df[\"dst_port\"].replace(regex=\",\", value= \"\")\n",
    "full_df[\"dst_port\"]=  full_df[\"dst_port\"].replace(regex=\" \", value= \"\")\n",
    "full_df[\"src_port\"] = full_df[\"src_port\"].replace(regex=\" \", value=\"\")\n",
    "full_df[\"src_port\"] = full_df[\"src_port\"].replace(regex=\"dns\", value=\"53\")\n",
    "full_df[\"src_port\"] = full_df[\"src_port\"].replace(regex=\"tls\", value=\"0\")\n",
    "full_df[\"dst_port\"] = full_df[\"dst_port\"].replace(regex=\"dns\", value=\"53\")\n",
    "full_df[\"dst_ip\"] = full_df[\"dst_ip\"].replace(regex=\"\\S*:+\\S+\", value=\"0\")"
   ]
  },
  {
   "cell_type": "code",
   "execution_count": 5,
   "metadata": {
    "id": "LrekodUTmBym"
   },
   "outputs": [],
   "source": [
    "from sklearn import metrics\n",
    "scores = {}\n",
    "scores_list= []\n",
    "\n",
    "def scoring_metrics(y_test, y_pred, model):\n",
    "    print(f\"y_test size:{y_test.size} y_pred size:{y_pred.size}\")\n",
    "    accuracy = metrics.accuracy_score(y_test, y_pred)\n",
    "    scores[model] = accuracy\n",
    "    scores_list.append(accuracy)\n",
    "#     confusion_matrix = metrics.confusion_matrix(y_true=[True, True], y_pred=[True, True], labels=[True, False])\n",
    "    cm = metrics.confusion_matrix(y_test, y_pred, labels=['nmap_scan', 'port_scan', 'smtp_enumeration', 'sql_enumeration', 'web_enumeration'])\n",
    "    print(f\"Confusion Matrix: {cm}\")\n",
    "\n",
    "    print(f\"\\n[*] Model: {model}\")\n",
    "    print(\"[*] Precision: {:.3f}%\".format(metrics.precision_score(y_test, y_pred, average=\"weighted\")))\n",
    "    print(\"[*] Recall: {:.3f}%\".format(metrics.recall_score(y_test, y_pred, average=\"weighted\")))\n",
    "\n",
    "    print(\"[*] Accuracy: {:.3f}%\".format(accuracy))\n",
    "    print(\"[*] F1_score: {:.3f}%\".format(metrics.f1_score(y_test, y_pred, average=\"weighted\")))\n"
   ]
  },
  {
   "cell_type": "markdown",
   "metadata": {
    "id": "aiRQu2ekMSlv"
   },
   "source": [
    "# KNN"
   ]
  },
  {
   "cell_type": "code",
   "execution_count": 6,
   "metadata": {},
   "outputs": [],
   "source": [
    "df = full_df.head(30000)"
   ]
  },
  {
   "cell_type": "code",
   "execution_count": 7,
   "metadata": {
    "colab": {
     "base_uri": "https://localhost:8080/",
     "height": 72
    },
    "id": "Qd8IISrRwcsl",
    "outputId": "34fce0a0-082b-4242-a9ec-c49b599dc099",
    "scrolled": true
   },
   "outputs": [
    {
     "name": "stdout",
     "output_type": "stream",
     "text": [
      "Doing\n"
     ]
    },
    {
     "name": "stderr",
     "output_type": "stream",
     "text": [
      "C:\\Users\\kahow\\anaconda3\\lib\\site-packages\\pandas\\core\\frame.py:4166: SettingWithCopyWarning: \n",
      "A value is trying to be set on a copy of a slice from a DataFrame\n",
      "\n",
      "See the caveats in the documentation: https://pandas.pydata.org/pandas-docs/stable/user_guide/indexing.html#returning-a-view-versus-a-copy\n",
      "  return super().replace(\n",
      "<ipython-input-7-1a07f9aa920b>:18: SettingWithCopyWarning: \n",
      "A value is trying to be set on a copy of a slice from a DataFrame\n",
      "\n",
      "See the caveats in the documentation: https://pandas.pydata.org/pandas-docs/stable/user_guide/indexing.html#returning-a-view-versus-a-copy\n",
      "  clean_df[label][index] = new_ip\n"
     ]
    },
    {
     "name": "stdout",
     "output_type": "stream",
     "text": [
      "Done\n"
     ]
    }
   ],
   "source": [
    "print(\"Doing\")\n",
    "from sklearn.preprocessing import OneHotEncoder\n",
    "df.replace(to_replace=[\"None\"], value=np.nan, inplace=True)\n",
    "clean_df = df.fillna(str(0)) #uhm i dont knowhow to explain this, but please lmk another alternative to fix this cause :\") try to run it without str and you will know what i mean\"\n",
    "clean_x = clean_df.iloc[:, :13].values\n",
    "clean_y = clean_df[\"category\"].values\n",
    "features = df.columns.values[:-1]\n",
    "\n",
    "for label in clean_df.columns:\n",
    "    for index, rows in clean_df.iterrows():\n",
    "        new_ip = \"\"\n",
    "        ip = str(rows[label])\n",
    "        if re.search(\"\\d+\\.\\d+\\.\\d+\\.\\d+\", ip):\n",
    "            octets = ip.split(\".\")\n",
    "            for octet in octets:\n",
    "                octet = octet.rjust(3,\"0\")\n",
    "                new_ip += octet\n",
    "            clean_df[label][index] = new_ip\n",
    "\n",
    "clean_df[\"http_response_code\"] = clean_df[\"http_response_code\"].replace('HTTP/1.1\"', value=\"0\")\n",
    "clean_df[\"src_ip\"] = clean_df[\"src_ip\"].replace('::1', value=\"0\")\n",
    "clean_df[\"dst_ip\"] = clean_df[\"dst_ip\"].replace('::1', value=\"0\")\n",
    "# clean_df[\"http_response_code\"] = clean_df[\"http_response_code\"].replace('HTTP/1.1\"', value=\"0\")\n",
    "print(\"Done\")"
   ]
  },
  {
   "cell_type": "code",
   "execution_count": 8,
   "metadata": {
    "id": "HO2a6ef4Cxl3"
   },
   "outputs": [],
   "source": [
    "from sklearn.compose import make_column_transformer\n",
    "clean_x = clean_df.iloc[:, :13] #honestly don't know if this is correct lmaoooo\n",
    "#this is to iterate through the columns and convert the strings to float (passthrough means for those columns we didnt specify, leave it as it is)\n",
    "column_trans = make_column_transformer((OneHotEncoder(sparse=False), ['Protocol', 'http_request_method', 'http_request_referrer', 'url_path', 'user_agent_original', 'sql_method', 'sql_query']),remainder='passthrough')\n",
    "test = column_trans.fit_transform(clean_x) #this is technically our cl"
   ]
  },
  {
   "cell_type": "code",
   "execution_count": 9,
   "metadata": {
    "id": "ZM3UFeBwmLhY"
   },
   "outputs": [],
   "source": [
    "from sklearn.model_selection import train_test_split\n",
    "from sklearn.neighbors import KNeighborsClassifier\n",
    "x_train, x_test, y_train, y_test = train_test_split(test, clean_y, test_size=0.3)\n",
    "# x_variable_train , x_variable_test , y_variable_train , y_variable_test  = train_test_split(test, clean_y, test_size=0.3)"
   ]
  },
  {
   "cell_type": "code",
   "execution_count": 10,
   "metadata": {
    "id": "x2zTbwdWmpJ6",
    "outputId": "327edc64-4056-4f8d-d2f6-c4ec358da5b8"
   },
   "outputs": [],
   "source": [
    "# k = 5\n",
    "# knn = KNeighborsClassifier(n_neighbors=k)\n",
    "# knn.fit(x_train, y_train)\n",
    "# # print(f\"Saving trained model to test-knn{k}.sav\")\n",
    "# # pickle.dump(knn, open(f\"test-knn{k}.sav\", \"wb\"))\n",
    "# # print(\"Model Saved\")\n",
    "\n",
    "# # print(\"Loading knn from pickle\")\n",
    "# # knn = pickle.load(open(\"knn5.sav\", \"rb\"))\n",
    "# # print(\"KNN Successfully loaded\")\n",
    "\n",
    "# y_pred = knn.predict(x_test)\n",
    "# scoring_metrics(y_test, y_pred, f\"knn {k}\")"
   ]
  },
  {
   "cell_type": "code",
   "execution_count": 11,
   "metadata": {
    "scrolled": true
   },
   "outputs": [
    {
     "name": "stdout",
     "output_type": "stream",
     "text": [
      "y_test size:9000 y_pred size:9000\n",
      "Confusion Matrix: [[ 817    0    0    0    0]\n",
      " [   0 4619    0    0    0]\n",
      " [   0    0   35    0    0]\n",
      " [   0    0    0 1067    0]\n",
      " [   0    0    0    0 2461]]\n",
      "\n",
      "[*] Model: knn 3\n",
      "[*] Precision: 1.000%\n",
      "[*] Recall: 1.000%\n",
      "[*] Accuracy: 1.000%\n",
      "[*] F1_score: 1.000%\n"
     ]
    },
    {
     "name": "stderr",
     "output_type": "stream",
     "text": [
      "C:\\Users\\kahow\\anaconda3\\lib\\site-packages\\sklearn\\metrics\\_classification.py:1221: UndefinedMetricWarning: Precision is ill-defined and being set to 0.0 in labels with no predicted samples. Use `zero_division` parameter to control this behavior.\n",
      "  _warn_prf(average, modifier, msg_start, len(result))\n"
     ]
    },
    {
     "name": "stdout",
     "output_type": "stream",
     "text": [
      "y_test size:9000 y_pred size:9000\n",
      "Confusion Matrix: [[ 817    0    0    0    0]\n",
      " [   0 4618    0    1    0]\n",
      " [   0    0   35    0    0]\n",
      " [   0    0    0 1067    0]\n",
      " [   0    0    0    0 2461]]\n",
      "\n",
      "[*] Model: knn 5\n",
      "[*] Precision: 1.000%\n",
      "[*] Recall: 1.000%\n",
      "[*] Accuracy: 1.000%\n",
      "[*] F1_score: 1.000%\n"
     ]
    },
    {
     "name": "stderr",
     "output_type": "stream",
     "text": [
      "C:\\Users\\kahow\\anaconda3\\lib\\site-packages\\sklearn\\metrics\\_classification.py:1221: UndefinedMetricWarning: Precision is ill-defined and being set to 0.0 in labels with no predicted samples. Use `zero_division` parameter to control this behavior.\n",
      "  _warn_prf(average, modifier, msg_start, len(result))\n"
     ]
    },
    {
     "name": "stdout",
     "output_type": "stream",
     "text": [
      "y_test size:9000 y_pred size:9000\n",
      "Confusion Matrix: [[ 817    0    0    0    0]\n",
      " [   0 4618    0    1    0]\n",
      " [   0    0   35    0    0]\n",
      " [   0    0    0 1067    0]\n",
      " [   0    0    0    0 2461]]\n",
      "\n",
      "[*] Model: knn 7\n",
      "[*] Precision: 1.000%\n",
      "[*] Recall: 1.000%\n",
      "[*] Accuracy: 1.000%\n",
      "[*] F1_score: 1.000%\n"
     ]
    },
    {
     "name": "stderr",
     "output_type": "stream",
     "text": [
      "C:\\Users\\kahow\\anaconda3\\lib\\site-packages\\sklearn\\metrics\\_classification.py:1221: UndefinedMetricWarning: Precision is ill-defined and being set to 0.0 in labels with no predicted samples. Use `zero_division` parameter to control this behavior.\n",
      "  _warn_prf(average, modifier, msg_start, len(result))\n"
     ]
    },
    {
     "name": "stdout",
     "output_type": "stream",
     "text": [
      "y_test size:9000 y_pred size:9000\n",
      "Confusion Matrix: [[ 817    0    0    0    0]\n",
      " [   0 4617    0    1    1]\n",
      " [   0    0   35    0    0]\n",
      " [   0    0    0 1067    0]\n",
      " [   0    0    0    0 2461]]\n",
      "\n",
      "[*] Model: knn 9\n",
      "[*] Precision: 1.000%\n",
      "[*] Recall: 1.000%\n",
      "[*] Accuracy: 1.000%\n",
      "[*] F1_score: 1.000%\n"
     ]
    },
    {
     "name": "stderr",
     "output_type": "stream",
     "text": [
      "C:\\Users\\kahow\\anaconda3\\lib\\site-packages\\sklearn\\metrics\\_classification.py:1221: UndefinedMetricWarning: Precision is ill-defined and being set to 0.0 in labels with no predicted samples. Use `zero_division` parameter to control this behavior.\n",
      "  _warn_prf(average, modifier, msg_start, len(result))\n"
     ]
    },
    {
     "name": "stdout",
     "output_type": "stream",
     "text": [
      "y_test size:9000 y_pred size:9000\n",
      "Confusion Matrix: [[ 817    0    0    0    0]\n",
      " [   0 4614    0    4    1]\n",
      " [   0    0   35    0    0]\n",
      " [   0    0    0 1067    0]\n",
      " [   0    0    0    0 2461]]\n",
      "\n",
      "[*] Model: knn 11\n",
      "[*] Precision: 0.999%\n",
      "[*] Recall: 0.999%\n",
      "[*] Accuracy: 0.999%\n",
      "[*] F1_score: 0.999%\n"
     ]
    },
    {
     "name": "stderr",
     "output_type": "stream",
     "text": [
      "C:\\Users\\kahow\\anaconda3\\lib\\site-packages\\sklearn\\metrics\\_classification.py:1221: UndefinedMetricWarning: Precision is ill-defined and being set to 0.0 in labels with no predicted samples. Use `zero_division` parameter to control this behavior.\n",
      "  _warn_prf(average, modifier, msg_start, len(result))\n"
     ]
    }
   ],
   "source": [
    "scores = {}\n",
    "scores_list= []\n",
    "\n",
    "range_k = range(3, 13, 2)\n",
    "knn = \"\"\n",
    "skip = False\n",
    "\n",
    "\n",
    "for k in range_k:\n",
    "    knn = KNeighborsClassifier(n_neighbors=k)\n",
    "    knn.fit(x_train, y_train)\n",
    "#     pickle.dump(knn, open(f\"knn{k}.sav\", \"wb\"))\n",
    "\n",
    "    y_pred = knn.predict(x_test)\n",
    "    scoring_metrics(y_test, y_pred, f\"knn {k}\")"
   ]
  },
  {
   "cell_type": "code",
   "execution_count": 12,
   "metadata": {},
   "outputs": [
    {
     "data": {
      "image/png": "[encoded data removed]",
      "text/plain": [
       "<Figure size 792x648 with 2 Axes>"
      ]
     },
     "metadata": {},
     "output_type": "display_data"
    }
   ],
   "source": [
    "import seaborn as sb\n",
    "confusion_matrix = metrics.confusion_matrix(y_test, y_pred)\n",
    "fig, ax = plt.subplots(figsize=(11, 9))\n",
    "# sb.heatmap(confusion_matrix/np.sum(confusion_matrix), annot=True, fmt='.2%', cmap='Blues')\n",
    "sb.heatmap(confusion_matrix, annot=True, fmt='0', cmap='Blues')\n",
    "\n",
    "plt.show()\n"
   ]
  },
  {
   "cell_type": "code",
   "execution_count": null,
   "metadata": {},
   "outputs": [],
   "source": []
  },
  {
   "cell_type": "code",
   "execution_count": null,
   "metadata": {},
   "outputs": [],
   "source": []
  }
 ],
 "metadata": {
  "colab": {
   "include_colab_link": true,
   "provenance": []
  },
  "kernelspec": {
   "display_name": "Python 3",
   "language": "python",
   "name": "python3"
  },
  "language_info": {
   "codemirror_mode": {
    "name": "ipython",
    "version": 3
   },
   "file_extension": ".py",
   "mimetype": "text/x-python",
   "name": "python",
   "nbconvert_exporter": "python",
   "pygments_lexer": "ipython3",
   "version": "3.8.3"
  }
 },
 "nbformat": 4,
 "nbformat_minor": 1
}
