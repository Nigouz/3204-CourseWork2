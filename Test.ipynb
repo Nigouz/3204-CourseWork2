{
 "cells": [
  {
   "cell_type": "markdown",
   "metadata": {
    "colab_type": "text",
    "id": "view-in-github"
   },
   "source": [
    "<a href=\"https://colab.research.google.com/github/Nigouz/3204-CourseWork2/blob/main/Test.ipynb\" target=\"_parent\"><img src=\"https://colab.research.google.com/assets/colab-badge.svg\" alt=\"Open In Colab\"/></a>"
   ]
  },
  {
   "cell_type": "code",
   "execution_count": 33,
   "metadata": {
    "id": "KZhD1QKdgcK9"
   },
   "outputs": [],
   "source": [
    "import numpy as np\n",
    "import matplotlib.pyplot as plt\n",
    "import pandas as pd\n",
    "import pickle\n",
    "import os\n",
    "import re\n",
    "from sklearn import preprocessing\n",
    "import tensorflow as tf\n",
    "import tensorflow.compat.v1 as tf\n",
    "tf.disable_v2_behavior()\n",
    "import time"
   ]
  },
  {
   "cell_type": "code",
   "execution_count": 2,
   "metadata": {
    "id": "VY4YBaFhgmtT"
   },
   "outputs": [],
   "source": [
    "# from google.colab import drive\n",
    "# drive.mount('/content/drive')"
   ]
  },
  {
   "cell_type": "code",
   "execution_count": 3,
   "metadata": {
    "colab": {
     "base_uri": "https://localhost:8080/"
    },
    "id": "cu1B4nd9gmq8",
    "outputId": "7af96a2b-7e2e-4ffc-9ebf-0d0053feb443"
   },
   "outputs": [
    {
     "name": "stdout",
     "output_type": "stream",
     "text": [
      "[*] Shape of dataset: (98274, 15)\n",
      "         @timestamp           src_ip src_port           dst_ip dst_port  \\\n",
      "51699  1.666692e+09      10.32.4.176    46418    10.132.100.52       80   \n",
      "8378   1.666692e+09    100.64.19.103    44618     100.64.19.22     8443   \n",
      "85482  1.666580e+09  192.168.207.142        0                0        0   \n",
      "66319  1.666580e+09  192.168.207.142        0                0        0   \n",
      "42154  1.666542e+09    192.168.106.1    53826  192.168.106.130       53   \n",
      "\n",
      "                                                Protocol http_request_method  \\\n",
      "51699                                                TCP                   0   \n",
      "8378                                                 TCP                   0   \n",
      "85482                                              HTTPS                 GET   \n",
      "66319                                              HTTPS                 GET   \n",
      "42154  2022-10-24 00:20:51 ALLOW UDP 192.168.106.1 19...                 UDP   \n",
      "\n",
      "      http_request_referrer http_response_code                     url_path  \\\n",
      "51699                     0                  0                            0   \n",
      "8378                      0                  0                            0   \n",
      "85482                     0                404  /IDSWebApp/IDSjsp/Login.jsp   \n",
      "66319                     0                404       /FCKeditor/license.txt   \n",
      "42154                     0                  0                            0   \n",
      "\n",
      "      user_agent_original sql_method sql_query         category  \n",
      "51699                   0          0         0        port_scan  \n",
      "8378                    0          0         0        port_scan  \n",
      "85482        Mozilla/5.00          0         0  web_enumeration  \n",
      "66319        Mozilla/5.00          0         0  web_enumeration  \n",
      "42154                   0          0         0        port_scan  \n",
      "\n",
      "\n"
     ]
    }
   ],
   "source": [
    "%matplotlib inline\n",
    "plt.style.use('ggplot')\n",
    "full_df = pd.read_csv(r\"shuffled-noIPV6.csv\")\n",
    "# full_df = pd.read_csv(r\"fortf.csv\")\n",
    "\n",
    "print(f\"[*] Shape of dataset: {full_df.shape}\")\n",
    "from sklearn.utils import shuffle\n",
    "full_df.drop(full_df.columns[0], axis=1, inplace=True)\n",
    "full_df = shuffle(full_df)\n",
    "\n",
    "print(full_df.tail())\n",
    "print(\"\\n\")"
   ]
  },
  {
   "cell_type": "code",
   "execution_count": 4,
   "metadata": {
    "colab": {
     "base_uri": "https://localhost:8080/",
     "height": 17
    },
    "id": "IOgcXWdIzNSq",
    "outputId": "a55291c8-853d-4afb-aa40-3b8eb45a7228"
   },
   "outputs": [],
   "source": [
    "full_df[\"src_port\"]=  full_df[\"src_port\"].replace(regex=\",\", value= \"\")\n",
    "full_df[\"src_port\"]=  full_df[\"src_port\"].replace(regex=\",\", value= \"\")\n",
    "full_df[\"dst_port\"]=  full_df[\"dst_port\"].replace(regex=\",\", value= \"\")\n",
    "full_df[\"dst_port\"]=  full_df[\"dst_port\"].replace(regex=\" \", value= \"\")\n",
    "full_df[\"src_port\"] = full_df[\"src_port\"].replace(regex=\" \", value=\"\")\n",
    "full_df[\"src_port\"] = full_df[\"src_port\"].replace(regex=\"dns\", value=\"53\")\n",
    "full_df[\"src_port\"] = full_df[\"src_port\"].replace(regex=\"tls\", value=\"0\")\n",
    "full_df[\"dst_port\"] = full_df[\"dst_port\"].replace(regex=\"dns\", value=\"53\")\n",
    "full_df[\"dst_ip\"] = full_df[\"dst_ip\"].replace(regex=\"\\S*:+\\S+\", value=\"0\")"
   ]
  },
  {
   "cell_type": "code",
   "execution_count": 35,
   "metadata": {
    "id": "LrekodUTmBym"
   },
   "outputs": [],
   "source": [
    "from sklearn import metrics\n",
    "\n",
    "models = []\n",
    "accuracy_dict = {}\n",
    "precision_dict = {}\n",
    "cm_dict = {}\n",
    "recall_dict = {}\n",
    "f1_dict = {}\n",
    "\n",
    "\n",
    "def scoring_metrics(y_test, y_pred, model):\n",
    "    models.append(model)\n",
    "    print(f\"y_test size:{y_test.size} y_pred size:{y_pred.size}\")\n",
    "    accuracy_dict[model] = metrics.accuracy_score(y_test, y_pred)\n",
    "    cm_dict[model] = metrics.confusion_matrix(y_test, y_pred, labels=['nmap_scan', 'port_scan', 'smtp_enumeration', 'sql_enumeration', 'web_enumeration'])\n",
    "    precision_dict[model] = metrics.precision_score(y_test, y_pred, average=\"weighted\")\n",
    "    recall_dict[model] = metrics.recall_score(y_test, y_pred, average=\"weighted\")\n",
    "    f1_dict[model] = metrics.f1_score(y_test, y_pred, average=\"weighted\")\n",
    "\n",
    "\n",
    "#     print(f\"\\n[*] Model: {model}\")\n",
    "#     print(f\"Confusion Matrix: {metrics.confusion_matrix(y_test, y_pred, labels=['nmap_scan', 'port_scan', 'smtp_enumeration', 'sql_enumeration', 'web_enumeration'])}\")\n",
    "#     print(\"[*] Precision: {:.3f}%\".format(metrics.precision_score(y_test, y_pred, average=\"weighted\")))\n",
    "#     print(\"[*] Recall: {:.3f}%\".format(metrics.recall_score(y_test, y_pred, average=\"weighted\")))\n",
    "#     print(\"[*] Accuracy: {:.3f}%\".format(metrics.accuracy_score(y_test, y_pred)))\n",
    "#     print(\"[*] F1_score: {:.3f}%\".format(metrics.f1_score(y_test, y_pred, average=\"weighted\")))\n"
   ]
  },
  {
   "cell_type": "markdown",
   "metadata": {
    "id": "aiRQu2ekMSlv"
   },
   "source": [
    "# KNN"
   ]
  },
  {
   "cell_type": "code",
   "execution_count": 38,
   "metadata": {},
   "outputs": [],
   "source": [
    "df = full_df.head(25000)\n",
    "# df = full_df.head(10000)"
   ]
  },
  {
   "cell_type": "code",
   "execution_count": 39,
   "metadata": {
    "colab": {
     "base_uri": "https://localhost:8080/",
     "height": 72
    },
    "id": "Qd8IISrRwcsl",
    "outputId": "34fce0a0-082b-4242-a9ec-c49b599dc099",
    "scrolled": true
   },
   "outputs": [
    {
     "name": "stdout",
     "output_type": "stream",
     "text": [
      "Doing\n"
     ]
    },
    {
     "name": "stderr",
     "output_type": "stream",
     "text": [
      "C:\\Users\\kahow\\anaconda3\\lib\\site-packages\\pandas\\core\\frame.py:4166: SettingWithCopyWarning: \n",
      "A value is trying to be set on a copy of a slice from a DataFrame\n",
      "\n",
      "See the caveats in the documentation: https://pandas.pydata.org/pandas-docs/stable/user_guide/indexing.html#returning-a-view-versus-a-copy\n",
      "  return super().replace(\n",
      "<ipython-input-39-1a07f9aa920b>:18: SettingWithCopyWarning: \n",
      "A value is trying to be set on a copy of a slice from a DataFrame\n",
      "\n",
      "See the caveats in the documentation: https://pandas.pydata.org/pandas-docs/stable/user_guide/indexing.html#returning-a-view-versus-a-copy\n",
      "  clean_df[label][index] = new_ip\n"
     ]
    },
    {
     "name": "stdout",
     "output_type": "stream",
     "text": [
      "Done\n"
     ]
    }
   ],
   "source": [
    "print(\"Doing\")\n",
    "from sklearn.preprocessing import OneHotEncoder\n",
    "df.replace(to_replace=[\"None\"], value=np.nan, inplace=True)\n",
    "clean_df = df.fillna(str(0)) #uhm i dont knowhow to explain this, but please lmk another alternative to fix this cause :\") try to run it without str and you will know what i mean\"\n",
    "clean_x = clean_df.iloc[:, :13].values\n",
    "clean_y = clean_df[\"category\"].values\n",
    "features = df.columns.values[:-1]\n",
    "\n",
    "for label in clean_df.columns:\n",
    "    for index, rows in clean_df.iterrows():\n",
    "        new_ip = \"\"\n",
    "        ip = str(rows[label])\n",
    "        if re.search(\"\\d+\\.\\d+\\.\\d+\\.\\d+\", ip):\n",
    "            octets = ip.split(\".\")\n",
    "            for octet in octets:\n",
    "                octet = octet.rjust(3,\"0\")\n",
    "                new_ip += octet\n",
    "            clean_df[label][index] = new_ip\n",
    "\n",
    "clean_df[\"http_response_code\"] = clean_df[\"http_response_code\"].replace('HTTP/1.1\"', value=\"0\")\n",
    "clean_df[\"src_ip\"] = clean_df[\"src_ip\"].replace('::1', value=\"0\")\n",
    "clean_df[\"dst_ip\"] = clean_df[\"dst_ip\"].replace('::1', value=\"0\")\n",
    "# clean_df[\"http_response_code\"] = clean_df[\"http_response_code\"].replace('HTTP/1.1\"', value=\"0\")\n",
    "print(\"Done\")"
   ]
  },
  {
   "cell_type": "code",
   "execution_count": 40,
   "metadata": {
    "id": "HO2a6ef4Cxl3"
   },
   "outputs": [],
   "source": [
    "from sklearn.compose import make_column_transformer\n",
    "clean_x = clean_df.iloc[:, :13] #honestly don't know if this is correct lmaoooo\n",
    "#this is to iterate through the columns and convert the strings to float (passthrough means for those columns we didnt specify, leave it as it is)\n",
    "column_trans = make_column_transformer((OneHotEncoder(sparse=False), ['Protocol', 'http_request_method', 'http_request_referrer', 'url_path', 'user_agent_original', 'sql_method', 'sql_query']),remainder='passthrough')\n",
    "test = column_trans.fit_transform(clean_x) #this is technically our cl"
   ]
  },
  {
   "cell_type": "code",
   "execution_count": 41,
   "metadata": {
    "id": "ZM3UFeBwmLhY"
   },
   "outputs": [],
   "source": [
    "from sklearn.model_selection import train_test_split\n",
    "from sklearn.neighbors import KNeighborsClassifier\n",
    "x_train, x_test, y_train, y_test = train_test_split(test, clean_y, test_size=0.3)\n",
    "# x_variable_train , x_variable_test , y_variable_train , y_variable_test  = train_test_split(test, clean_y, test_size=0.3)"
   ]
  },
  {
   "cell_type": "code",
   "execution_count": null,
   "metadata": {
    "scrolled": true
   },
   "outputs": [
    {
     "name": "stdout",
     "output_type": "stream",
     "text": [
      "--- Model100 took 17.559035301208496 seconds to TRAIN ---\n",
      "--- Model100 took 82.53822088241577 seconds to PREDICT ---\n",
      "y_test size:7500 y_pred size:7500\n"
     ]
    },
    {
     "name": "stderr",
     "output_type": "stream",
     "text": [
      "C:\\Users\\kahow\\anaconda3\\lib\\site-packages\\sklearn\\metrics\\_classification.py:1221: UndefinedMetricWarning: Precision is ill-defined and being set to 0.0 in labels with no predicted samples. Use `zero_division` parameter to control this behavior.\n",
      "  _warn_prf(average, modifier, msg_start, len(result))\n"
     ]
    },
    {
     "name": "stdout",
     "output_type": "stream",
     "text": [
      "--- Model111 took 17.60703706741333 seconds to TRAIN ---\n",
      "--- Model111 took 84.28396606445312 seconds to PREDICT ---\n",
      "y_test size:7500 y_pred size:7500\n"
     ]
    },
    {
     "name": "stderr",
     "output_type": "stream",
     "text": [
      "C:\\Users\\kahow\\anaconda3\\lib\\site-packages\\sklearn\\metrics\\_classification.py:1221: UndefinedMetricWarning: Precision is ill-defined and being set to 0.0 in labels with no predicted samples. Use `zero_division` parameter to control this behavior.\n",
      "  _warn_prf(average, modifier, msg_start, len(result))\n"
     ]
    },
    {
     "name": "stdout",
     "output_type": "stream",
     "text": [
      "--- Model122 took 18.239012002944946 seconds to TRAIN ---\n",
      "--- Model122 took 85.88940691947937 seconds to PREDICT ---\n",
      "y_test size:7500 y_pred size:7500\n"
     ]
    },
    {
     "name": "stderr",
     "output_type": "stream",
     "text": [
      "C:\\Users\\kahow\\anaconda3\\lib\\site-packages\\sklearn\\metrics\\_classification.py:1221: UndefinedMetricWarning: Precision is ill-defined and being set to 0.0 in labels with no predicted samples. Use `zero_division` parameter to control this behavior.\n",
      "  _warn_prf(average, modifier, msg_start, len(result))\n"
     ]
    },
    {
     "name": "stdout",
     "output_type": "stream",
     "text": [
      "--- Model133 took 17.315032958984375 seconds to TRAIN ---\n",
      "--- Model133 took 86.84098792076111 seconds to PREDICT ---\n",
      "y_test size:7500 y_pred size:7500\n"
     ]
    },
    {
     "name": "stderr",
     "output_type": "stream",
     "text": [
      "C:\\Users\\kahow\\anaconda3\\lib\\site-packages\\sklearn\\metrics\\_classification.py:1221: UndefinedMetricWarning: Precision is ill-defined and being set to 0.0 in labels with no predicted samples. Use `zero_division` parameter to control this behavior.\n",
      "  _warn_prf(average, modifier, msg_start, len(result))\n"
     ]
    },
    {
     "name": "stdout",
     "output_type": "stream",
     "text": [
      "--- Model144 took 17.29500126838684 seconds to TRAIN ---\n",
      "--- Model144 took 88.77628135681152 seconds to PREDICT ---\n",
      "y_test size:7500 y_pred size:7500\n"
     ]
    },
    {
     "name": "stderr",
     "output_type": "stream",
     "text": [
      "C:\\Users\\kahow\\anaconda3\\lib\\site-packages\\sklearn\\metrics\\_classification.py:1221: UndefinedMetricWarning: Precision is ill-defined and being set to 0.0 in labels with no predicted samples. Use `zero_division` parameter to control this behavior.\n",
      "  _warn_prf(average, modifier, msg_start, len(result))\n"
     ]
    },
    {
     "name": "stdout",
     "output_type": "stream",
     "text": [
      "--- Model155 took 17.26103663444519 seconds to TRAIN ---\n"
     ]
    }
   ],
   "source": [
    "model_score = {}\n",
    "\n",
    "# range_k = range(100, 160, 11)\n",
    "range_k = range(100, 160, 11)\n",
    "\n",
    "skip = False\n",
    "\n",
    "\n",
    "for k in range_k:\n",
    "    knn = KNeighborsClassifier(n_neighbors=k)\n",
    "    start_time = time.time()\n",
    "    knn.fit(x_train, y_train)\n",
    "#     pickle.dump(knn, open(f\"knn{k}.sav\", \"wb\"))\n",
    "    print(f\"--- Model{k} took {time.time() - start_time} seconds to TRAIN ---\" % ())\n",
    "\n",
    "    start_time = time.time()\n",
    "    y_pred = knn.predict(x_test)\n",
    "    print(f\"--- Model{k} took {time.time() - start_time} seconds to PREDICT ---\" % ())\n",
    "\n",
    "    scoring_metrics(y_test, y_pred, f\"knn {k}\")\n",
    "    "
   ]
  },
  {
   "cell_type": "code",
   "execution_count": null,
   "metadata": {},
   "outputs": [],
   "source": [
    "# import seaborn as sb\n",
    "# confusion_matrix = metrics.confusion_matrix(y_test, y_pred)\n",
    "# fig, ax = plt.subplots(figsize=(11, 9))\n",
    "# # sb.heatmap(confusion_matrix/np.sum(confusion_matrix), annot=True, fmt='.2%', cmap='Blues')\n",
    "# sb.heatmap(confusion_matrix, annot=True, fmt='0', cmap='Blues')\n",
    "\n",
    "# plt.show()\n"
   ]
  },
  {
   "cell_type": "code",
   "execution_count": null,
   "metadata": {},
   "outputs": [],
   "source": [
    "models = [100, 111, 122, 133, 144, 155]\n",
    "accuracy_dict"
   ]
  },
  {
   "cell_type": "code",
   "execution_count": null,
   "metadata": {},
   "outputs": [],
   "source": [
    "# plt.plot(models, list(accuracy_dict.values()), label = \"accuracy_dict\", linestyle=\"-\")\n",
    "# plt.plot(models, list(precision_dict.values()), label = \"precision_dict\", linestyle=\"--\")\n",
    "# plt.legend()\n",
    "# plt.show()\n",
    "\n",
    "figure, axis = plt.subplots(1, 2)\n",
    "  \n",
    "# For F1_score\n",
    "axis[0].plot(models, list(f1_dict.values()), label = \"F1\", linestyle=\"-\")\n",
    "axis[0].legend()\n",
    "axis[0].set_title(\"F1_score\")\n",
    "  \n",
    "# For Accuracy/Precision\n",
    "axis[1].plot(models, list(accuracy_dict.values()), label = \"accuracy\", linestyle=\"-\")\n",
    "axis[1].plot(models, list(precision_dict.values()), label = \"precision\", linestyle=\"--\")\n",
    "axis[1].legend()\n",
    "axis[1].set_title(\"Accuracy/Precision\")\n",
    "  "
   ]
  },
  {
   "cell_type": "code",
   "execution_count": null,
   "metadata": {},
   "outputs": [],
   "source": []
  }
 ],
 "metadata": {
  "colab": {
   "include_colab_link": true,
   "provenance": []
  },
  "kernelspec": {
   "display_name": "Python 3",
   "language": "python",
   "name": "python3"
  },
  "language_info": {
   "codemirror_mode": {
    "name": "ipython",
    "version": 3
   },
   "file_extension": ".py",
   "mimetype": "text/x-python",
   "name": "python",
   "nbconvert_exporter": "python",
   "pygments_lexer": "ipython3",
   "version": "3.8.3"
  }
 },
 "nbformat": 4,
 "nbformat_minor": 1
}
