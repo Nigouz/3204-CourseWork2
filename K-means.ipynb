{
 "cells": [
  {
   "cell_type": "code",
   "execution_count": 1,
   "metadata": {},
   "outputs": [],
   "source": [
    "from sklearn.preprocessing import OneHotEncoder\n",
    "import numpy as np\n",
    "import matplotlib.pyplot as plt\n",
    "import pandas as pd\n",
    "import pickle\n",
    "import os\n",
    "import re\n",
    "from sklearn import preprocessing"
   ]
  },
  {
   "cell_type": "code",
   "execution_count": 7,
   "metadata": {},
   "outputs": [
    {
     "name": "stdout",
     "output_type": "stream",
     "text": [
      "[*] Shape of dataset: (98274, 15)\n",
      "         @timestamp           src_ip src_port         dst_ip dst_port  \\\n",
      "52984  1.666690e+09    192.168.34.11    53114  192.168.33.12        0   \n",
      "15135  1.666692e+09    100.64.19.103    44618   100.64.19.22     8443   \n",
      "25708  1.666692e+09    100.64.19.103    40186   100.64.19.22     6002   \n",
      "89548  1.666692e+09    100.64.19.103    45640   100.64.19.22     5221   \n",
      "3196   1.666542e+09  192.168.106.130     5353    224.0.0.251     5353   \n",
      "\n",
      "                                                Protocol http_request_method  \\\n",
      "52984                                               HTTP                   0   \n",
      "15135                                                TCP                   0   \n",
      "25708                                                TCP                   0   \n",
      "89548                                                TCP                   0   \n",
      "3196   2022-10-24 00:18:10 ALLOW UDP 192.168.106.130 ...                 UDP   \n",
      "\n",
      "      http_request_referrer http_response_code                     url_path  \\\n",
      "52984                     0                  0  /board/philboard_admin.asp+   \n",
      "15135                     0                  0                            0   \n",
      "25708                     0                  0                            0   \n",
      "89548                     0                  0                            0   \n",
      "3196                      0                  0                            0   \n",
      "\n",
      "      user_agent_original sql_method sql_query  \n",
      "52984                   0          0         0  \n",
      "15135                   0          0         0  \n",
      "25708                   0          0         0  \n",
      "89548                   0          0         0  \n",
      "3196                    0          0         0  \n",
      "\n",
      "\n"
     ]
    }
   ],
   "source": [
    "full_df = pd.read_csv(r\"shuffled-noIPV6.csv\")\n",
    "# df = pd.read_csv(\"truncated_training.csv\")\n",
    "\n",
    "print(f\"[*] Shape of dataset: {full_df.shape}\")\n",
    "from sklearn.utils import shuffle\n",
    "full_df.drop(full_df.columns[0], axis=1, inplace=True)\n",
    "full_df.drop(full_df.columns[13], axis=1, inplace=True) #drop category column\n",
    "full_df = shuffle(full_df)\n",
    "\n",
    "print(full_df.tail())\n",
    "print(\"\\n\")"
   ]
  },
  {
   "cell_type": "code",
   "execution_count": 8,
   "metadata": {},
   "outputs": [],
   "source": [
    "full_df[\"src_port\"]=  full_df[\"src_port\"].replace(regex=\",\", value= \"\")\n",
    "full_df[\"src_port\"]=  full_df[\"src_port\"].replace(regex=\",\", value= \"\")\n",
    "full_df[\"dst_port\"]=  full_df[\"dst_port\"].replace(regex=\",\", value= \"\")\n",
    "full_df[\"dst_port\"]=  full_df[\"dst_port\"].replace(regex=\" \", value= \"\")\n",
    "full_df[\"src_port\"] = full_df[\"src_port\"].replace(regex=\" \", value=\"\")\n",
    "full_df[\"src_port\"] = full_df[\"src_port\"].replace(regex=\"dns\", value=\"53\")\n",
    "full_df[\"dst_port\"] = full_df[\"dst_port\"].replace(regex=\"dns\", value=\"53\")\n",
    "full_df[\"dst_ip\"] = full_df[\"dst_ip\"].replace(regex=\"\\S*:+\\S+\", value=\"0\")"
   ]
  },
  {
   "cell_type": "code",
   "execution_count": 10,
   "metadata": {},
   "outputs": [
    {
     "name": "stdout",
     "output_type": "stream",
     "text": [
      "[*] Shape of dataset: (98274, 13)\n"
     ]
    },
    {
     "data": {
      "text/html": [
       "<div>\n",
       "<style scoped>\n",
       "    .dataframe tbody tr th:only-of-type {\n",
       "        vertical-align: middle;\n",
       "    }\n",
       "\n",
       "    .dataframe tbody tr th {\n",
       "        vertical-align: top;\n",
       "    }\n",
       "\n",
       "    .dataframe thead th {\n",
       "        text-align: right;\n",
       "    }\n",
       "</style>\n",
       "<table border=\"1\" class=\"dataframe\">\n",
       "  <thead>\n",
       "    <tr style=\"text-align: right;\">\n",
       "      <th></th>\n",
       "      <th>@timestamp</th>\n",
       "      <th>src_ip</th>\n",
       "      <th>src_port</th>\n",
       "      <th>dst_ip</th>\n",
       "      <th>dst_port</th>\n",
       "      <th>Protocol</th>\n",
       "      <th>http_request_method</th>\n",
       "      <th>http_request_referrer</th>\n",
       "      <th>http_response_code</th>\n",
       "      <th>url_path</th>\n",
       "      <th>user_agent_original</th>\n",
       "      <th>sql_method</th>\n",
       "      <th>sql_query</th>\n",
       "    </tr>\n",
       "  </thead>\n",
       "  <tbody>\n",
       "    <tr>\n",
       "      <th>88161</th>\n",
       "      <td>1.666592e+09</td>\n",
       "      <td>0</td>\n",
       "      <td>0</td>\n",
       "      <td>10.0.0.20</td>\n",
       "      <td>0</td>\n",
       "      <td>0</td>\n",
       "      <td>0</td>\n",
       "      <td>0</td>\n",
       "      <td>0</td>\n",
       "      <td>0</td>\n",
       "      <td>0</td>\n",
       "      <td>0</td>\n",
       "      <td>0</td>\n",
       "    </tr>\n",
       "    <tr>\n",
       "      <th>33113</th>\n",
       "      <td>1.666713e+09</td>\n",
       "      <td>192.168.10.2</td>\n",
       "      <td>9200</td>\n",
       "      <td>48382</td>\n",
       "      <td>192.168.10.3</td>\n",
       "      <td>TCP/UDP</td>\n",
       "      <td>0</td>\n",
       "      <td>0</td>\n",
       "      <td>0</td>\n",
       "      <td>0</td>\n",
       "      <td>0</td>\n",
       "      <td>0</td>\n",
       "      <td>0</td>\n",
       "    </tr>\n",
       "    <tr>\n",
       "      <th>51743</th>\n",
       "      <td>1.666704e+09</td>\n",
       "      <td>192.168.10.2</td>\n",
       "      <td>9200</td>\n",
       "      <td>47642</td>\n",
       "      <td>192.168.10.3</td>\n",
       "      <td>TCP/UDP</td>\n",
       "      <td>0</td>\n",
       "      <td>0</td>\n",
       "      <td>0</td>\n",
       "      <td>0</td>\n",
       "      <td>0</td>\n",
       "      <td>0</td>\n",
       "      <td>0</td>\n",
       "    </tr>\n",
       "    <tr>\n",
       "      <th>74960</th>\n",
       "      <td>1.666713e+09</td>\n",
       "      <td>192.168.10.2</td>\n",
       "      <td>9200</td>\n",
       "      <td>48382</td>\n",
       "      <td>192.168.10.3</td>\n",
       "      <td>TCP/UDP</td>\n",
       "      <td>0</td>\n",
       "      <td>0</td>\n",
       "      <td>0</td>\n",
       "      <td>0</td>\n",
       "      <td>0</td>\n",
       "      <td>0</td>\n",
       "      <td>0</td>\n",
       "    </tr>\n",
       "    <tr>\n",
       "      <th>58487</th>\n",
       "      <td>1.666422e+09</td>\n",
       "      <td>192.168.0.3</td>\n",
       "      <td>54468</td>\n",
       "      <td>192.168.0.2</td>\n",
       "      <td>9200</td>\n",
       "      <td>tcp</td>\n",
       "      <td>0</td>\n",
       "      <td>0</td>\n",
       "      <td>0</td>\n",
       "      <td>0</td>\n",
       "      <td>0</td>\n",
       "      <td>0</td>\n",
       "      <td>0</td>\n",
       "    </tr>\n",
       "  </tbody>\n",
       "</table>\n",
       "</div>"
      ],
      "text/plain": [
       "         @timestamp         src_ip src_port       dst_ip      dst_port  \\\n",
       "88161  1.666592e+09              0        0    10.0.0.20             0   \n",
       "33113  1.666713e+09   192.168.10.2     9200        48382  192.168.10.3   \n",
       "51743  1.666704e+09   192.168.10.2     9200        47642  192.168.10.3   \n",
       "74960  1.666713e+09   192.168.10.2     9200        48382  192.168.10.3   \n",
       "58487  1.666422e+09    192.168.0.3    54468  192.168.0.2          9200   \n",
       "\n",
       "      Protocol http_request_method http_request_referrer http_response_code  \\\n",
       "88161        0                   0                     0                  0   \n",
       "33113  TCP/UDP                   0                     0                  0   \n",
       "51743  TCP/UDP                   0                     0                  0   \n",
       "74960  TCP/UDP                   0                     0                  0   \n",
       "58487      tcp                   0                     0                  0   \n",
       "\n",
       "      url_path user_agent_original sql_method sql_query  \n",
       "88161        0                   0          0         0  \n",
       "33113        0                   0          0         0  \n",
       "51743        0                   0          0         0  \n",
       "74960        0                   0          0         0  \n",
       "58487        0                   0          0         0  "
      ]
     },
     "execution_count": 10,
     "metadata": {},
     "output_type": "execute_result"
    }
   ],
   "source": [
    "print(f\"[*] Shape of dataset: {full_df.shape}\")\n",
    "full_df.head(5)"
   ]
  },
  {
   "cell_type": "code",
   "execution_count": 14,
   "metadata": {},
   "outputs": [
    {
     "name": "stderr",
     "output_type": "stream",
     "text": [
      "C:\\Users\\Lenovo\\AppData\\Local\\Temp/ipykernel_8768/1729664836.py:16: SettingWithCopyWarning: \n",
      "A value is trying to be set on a copy of a slice from a DataFrame\n",
      "\n",
      "See the caveats in the documentation: https://pandas.pydata.org/pandas-docs/stable/user_guide/indexing.html#returning-a-view-versus-a-copy\n",
      "  clean_df[label][index] = new_ip\n"
     ]
    },
    {
     "name": "stdout",
     "output_type": "stream",
     "text": [
      "Done\n"
     ]
    }
   ],
   "source": [
    "full_df.replace(to_replace=[\"None\"], value=np.nan, inplace=True)\n",
    "clean_df = full_df.fillna(str(0)) #uhm i dont knowhow to explain this, but please lmk another alternative to fix this cause :\") try to run it without str and you will know what i mean\"\n",
    "clean_x = clean_df.iloc[:, :13].values\n",
    "#clean_y = clean_df[\"category\"].values\n",
    "features = full_df.columns.values[:-1]\n",
    "\n",
    "for label in clean_df.columns:\n",
    "    for index, rows in clean_df.iterrows():\n",
    "        new_ip = \"\"\n",
    "        ip = str(rows[label])\n",
    "        if re.search(\"\\d+\\.\\d+\\.\\d+\\.\\d+\", ip):\n",
    "            octets = ip.split(\".\")\n",
    "            for octet in octets:\n",
    "                octet = octet.rjust(3,\"0\")\n",
    "                new_ip += octet\n",
    "            clean_df[label][index] = new_ip\n",
    "\n",
    "clean_df[\"http_response_code\"] = clean_df[\"http_response_code\"].replace('HTTP/1.1\"', value=\"0\")\n",
    "clean_df[\"src_ip\"] = clean_df[\"src_ip\"].replace('::1', value=\"0\")\n",
    "clean_df[\"dst_ip\"] = clean_df[\"dst_ip\"].replace('::1', value=\"0\")\n",
    "# clean_df[\"http_response_code\"] = clean_df[\"http_response_code\"].replace('HTTP/1.1\"', value=\"0\")\n",
    "print(\"Done\")"
   ]
  },
  {
   "cell_type": "code",
   "execution_count": null,
   "metadata": {},
   "outputs": [],
   "source": [
    "from sklearn.compose import make_column_transformer\n",
    "clean_x = clean_df.iloc[:, :13] #honestly don't know if this is correct lmaoooo\n",
    "#this is to iterate through the columns and convert the strings to float (passthrough means for those columns we didnt specify, leave it as it is)\n",
    "column_trans = make_column_transformer((OneHotEncoder(sparse=False), ['Protocol', 'http_request_method', 'http_request_referrer', 'url_path', 'user_agent_original', 'sql_method', 'sql_query']),remainder='passthrough')\n",
    "test = column_trans.fit_transform(clean_x) #this is technically our cl"
   ]
  }
 ],
 "metadata": {
  "kernelspec": {
   "display_name": "Python 3.9.7 ('base')",
   "language": "python",
   "name": "python3"
  },
  "language_info": {
   "codemirror_mode": {
    "name": "ipython",
    "version": 3
   },
   "file_extension": ".py",
   "mimetype": "text/x-python",
   "name": "python",
   "nbconvert_exporter": "python",
   "pygments_lexer": "ipython3",
   "version": "3.9.7"
  },
  "orig_nbformat": 4,
  "vscode": {
   "interpreter": {
    "hash": "20a9e06a1eee47c4abbed4ec8225ad91d78d9800d202b71b6b0a6e47016c6abd"
   }
  }
 },
 "nbformat": 4,
 "nbformat_minor": 2
}
